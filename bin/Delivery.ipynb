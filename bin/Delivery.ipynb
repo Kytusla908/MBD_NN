{
 "cells": [
  {
   "cell_type": "markdown",
   "id": "aaeb5afc",
   "metadata": {},
   "source": [
    "# Imports"
   ]
  },
  {
   "cell_type": "code",
   "execution_count": 1,
   "id": "0ee6758e",
   "metadata": {},
   "outputs": [],
   "source": [
    "import pandas as pd\n",
    "import numpy as np\n",
    "from collections import Counter\n",
    "import matplotlib.pyplot as plt\n",
    "import squarify\n",
    "import spacy\n",
    "\n",
    "import torch\n",
    "import torch.nn as nn\n",
    "import torch.nn.functional as F\n",
    "from torch.utils.data import Dataset, DataLoader\n",
    "\n",
    "from sklearn.feature_extraction.text import TfidfVectorizer\n",
    "from sklearn.model_selection import train_test_split"
   ]
  },
  {
   "cell_type": "markdown",
   "id": "be36222a",
   "metadata": {},
   "source": [
    "Dowanload and load catalan stopwords from `spacy`."
   ]
  },
  {
   "cell_type": "code",
   "execution_count": 2,
   "id": "d3e2e53e",
   "metadata": {},
   "outputs": [
    {
     "name": "stdout",
     "output_type": "stream",
     "text": [
      "Collecting ca-core-news-sm==3.8.0\n",
      "  Downloading https://github.com/explosion/spacy-models/releases/download/ca_core_news_sm-3.8.0/ca_core_news_sm-3.8.0-py3-none-any.whl (19.6 MB)\n",
      "\u001b[2K     \u001b[90m━━━━━━━━━━━━━━━━━━━━━━━━━━━━━━━━━━━━━━━━\u001b[0m \u001b[32m19.6/19.6 MB\u001b[0m \u001b[31m26.4 MB/s\u001b[0m eta \u001b[36m0:00:00\u001b[0ma \u001b[36m0:00:01\u001b[0m\n",
      "\u001b[?25h\u001b[38;5;2m✔ Download and installation successful\u001b[0m\n",
      "You can now load the package via spacy.load('ca_core_news_sm')\n",
      "{\"d'una\", 'tots', 'tota', 'alguns', 'fa', 'tanta', 'teu', 'ells', 'poques', 'semblants', 'consigueixen', 'les', 'meva', 'del', 'tot', 'uns', 'dins', 'quins', 'ans', 'dalt', 'potser', 'sou', 'sa', 'els', 'llavors', 'bastant', 'ambdues', 'quines', 'etc', 'amb', 'qual', 'aquell', 'éssent', 'veu', 'jo', 'aquelles', 'aquests', 'consegueixo', 'sap', 'allò', 'oh', 'oi', 'cadascuns', 'en', 'doncs', 'e', 'ens', 'només', 'és', 'ton', 'teus', \"t'han\", 'mateixos', 'ací', 'fora', 'ho', \"l'hi\", 'quals', 'apa', 'un', 'semblant', \"s'ha\", 'cadascuna', 'mateixa', 'meves', \"t'he\", 'tant', 'vaig', 'pel', 'malgrat', 'al', 'conseguim', 'meu', 'són', 'alguna', 'propi', 'em', 'com', 'estem', 'mal', 'últim', 'molta', 'però', 'quin', 'molt', 'entre', 'elles', 'poca', 'teniu', 'mateixes', 'qui', 'seu', 'us', 'mentre', 'feu', 'podeu', 'seus', 'nogensmenys', 'hi', 'també', 'està', 'erem', \"d'un\", 'eh', 'va', 'eres', 'fan', 'fem', 'algunes', 'li', 'més', 'nostra', 'ah', 'quant', 'me', 'estic', 'poder', 'érem', 'vostres', \"d'uns\", 'sols', 'encara', 'després', 'ma', 'que', 'mode', 'moltes', 'poc', 'sons', 'alhora', 'tons', \"li'n\", 'ambdós', 'aquí', 'nostres', 'ja', 'ni', 'cada', 'aquest', 'teves', 'pocs', 'ser', 'consigueix', 'quina', 'totes', 'dintre', 'puc', 'si', 'conseguir', 'no', 'baix', 'saber', 'inclòs', 'unes', 'i', 'aquella', 'molts', 'això', 'mateix', 'a', 'bé', 'consigueixes', 'abans', 'éreu', 'llarg', 'pas', 'podem', 'primer', 'què', 'des', 'som', 'meus', 'solament', 'son', 'on', 'vostra', 'saps', \"d'unes\", 'altre', 'allí', 'hem', 'et', \"t'ha\", 'esta', 'ne', 'una', 'així', 'tenir', 'als', 'haver', 'aquestes', 'havia', 'ses', 'vas', 'de', 'tal', 'dels', 'tantes', \"n'hi\", 'nostre', 'van', \"m'he\", \"n'he\", 'estan', 'sota', 'tenim', 'cadascú', 'anar', 'contra', 'tampoc', 'teva', 'fas', 'aleshores', 'durant', 'sobretot', 'donat', 'tan', 'tinc', 'el', 'ta', 'perquè', 'ús', 'heu', 'vam', 'faig', 'per', 'sóc', 'te', 'sobre', 'soc', 'estàvem', 'igual', 'saben', 'fi', 'he', 'altres', 'sabeu', 'seva', 'estat', 'fins', 'altra', 'algun', 'mon', 'gairebé', 'eren', 'o', 'quan', 'iguals', 'mons', 'quelcom', 'vostre', 'allà', 'ha', 'seves', 'esteu', 'ets', \"s'han\", 'estava', 'estàveu', 'poden', 'la', 'estaven', 'han', 'vosaltres', 'tene', 'cadascunes', 'aquesta', 'pels', 'sabem', 'aquells', 'es', 'nosaltres', 'sense', 'fer', 'has', 'era'}\n"
     ]
    }
   ],
   "source": [
    "!python -m spacy download ca_core_news_sm\n",
    "nlp = spacy.load(\"ca_core_news_sm\")\n",
    "stopwords = nlp.Defaults.stop_words\n",
    "print(stopwords)"
   ]
  },
  {
   "cell_type": "markdown",
   "id": "2a8b89c4",
   "metadata": {},
   "source": [
    "# Load and process csv data"
   ]
  },
  {
   "cell_type": "code",
   "execution_count": 3,
   "id": "3e44c553",
   "metadata": {},
   "outputs": [],
   "source": [
    "data = pd.read_csv('../data/train.csv')"
   ]
  },
  {
   "cell_type": "code",
   "execution_count": 32,
   "id": "8686e2b8",
   "metadata": {},
   "outputs": [],
   "source": [
    "texts = data['text']\n",
    "labels = data['class']\n",
    "year = data['year']"
   ]
  },
  {
   "cell_type": "code",
   "execution_count": 20,
   "id": "7445c367",
   "metadata": {},
   "outputs": [
    {
     "data": {
      "text/plain": [
       "pandas.core.series.Series"
      ]
     },
     "execution_count": 20,
     "metadata": {},
     "output_type": "execute_result"
    }
   ],
   "source": [
    "type(labels)"
   ]
  },
  {
   "cell_type": "markdown",
   "id": "9e66dcc5",
   "metadata": {},
   "source": [
    "## Remove stopwords + leading and trailing quotes"
   ]
  },
  {
   "cell_type": "code",
   "execution_count": 5,
   "id": "a00ad63e",
   "metadata": {},
   "outputs": [],
   "source": [
    "def remove_stopwords(sentence):\n",
    "    sentence = ' '.join([word for word in sentence.split() if word not in stopwords])\n",
    "\n",
    "    return sentence\n",
    "\n",
    "preprocessed_texts = []\n",
    "for sentence in texts:\n",
    "    preprocessed_texts.append(remove_stopwords(sentence))"
   ]
  },
  {
   "cell_type": "code",
   "execution_count": 6,
   "id": "ace3326d",
   "metadata": {},
   "outputs": [],
   "source": [
    "for sentence in preprocessed_texts:\n",
    "    if sentence.startswith((\"'\", '\"')):\n",
    "        sentence = sentence[1:]\n",
    "    if sentence.endswith((\"'\", '\"')):\n",
    "        sentence = sentence[:-1]"
   ]
  },
  {
   "cell_type": "code",
   "execution_count": 7,
   "id": "d7d5cf95",
   "metadata": {},
   "outputs": [
    {
     "name": "stdout",
     "output_type": "stream",
     "text": [
      "[\"Notificació l'aprovació definitiva projecte reparcel·lació projecte d'urbanització La Vall Montserrat.\"\n",
      " \"Aprovació inicial projecte executiu reforma planta soterrani, baixa part primera l'edifici l'av. Drassanes, 13-15, districte Ciutat Vella.\"\n",
      " \"Aprovació definitiva l'expedient número 10 modificació pressupost l'Ajuntament l'exercici 2019.\"\n",
      " 'Acord relatiu determinació règim retributiu càrrecs electes.'\n",
      " \"Adjudicació licitació projecte executiu elèctric, d'il·luminació serveis associats Coves Salnitre.\"\n",
      " \"Aprovació definitiva pressupost general l'Ajuntament 2016.\"\n",
      " \"Aprovació inicial modificació l'Ordenança B3, reguladora preu públic prestació serveis socioculturals semestre 2013.\"\n",
      " 'Delegació funcions president vicepresident Museu Badalona.'\n",
      " \"Convocatòria premis recerca Vila d'Olesa 2020.\"\n",
      " 'Aprovació definitiva modificacions pressupost 6 7 2018.'\n",
      " \"Aprovació definitiva pressupost l'Ajuntament, exercici 2019.\"\n",
      " 'Aprovació mesures fiscals crisi CORONAVIRUS COVID 19.'\n",
      " 'Contractació gerocultor.' \"Oferta pública d'ocupació l'exercici 2013.\"\n",
      " 'Aprovació definitiva Reglament registre municipal partits polítics.']\n"
     ]
    }
   ],
   "source": [
    "print(np.random.choice(preprocessed_texts, 15, replace=False))"
   ]
  },
  {
   "cell_type": "code",
   "execution_count": 8,
   "id": "09513816",
   "metadata": {},
   "outputs": [
    {
     "data": {
      "image/png": "[encoded data removed]",
      "text/plain": [
       "<Figure size 1500x500 with 2 Axes>"
      ]
     },
     "metadata": {},
     "output_type": "display_data"
    }
   ],
   "source": [
    "year_counts = Counter(year)\n",
    "sorted_years = sorted(year_counts)\n",
    "frequencies_years = [year_counts[year] for year in sorted_years]\n",
    "\n",
    "lable_counts = Counter(labels)\n",
    "sorted_lables = sorted(lable_counts)\n",
    "frequencies_labels = [lable_counts[label] for label in sorted_lables]\n",
    "labels_with_pct = [f\"{label}\\n({size/sum(frequencies_labels):.1%})\" for label, size in lable_counts.items()]\n",
    "\n",
    "fig, ax = plt.subplots(1,2, figsize=(15,5))\n",
    "ax[0].bar(sorted_years, frequencies_years)\n",
    "ax[0].set_xlabel('Year')\n",
    "ax[0].set_ylabel('Count')\n",
    "ax[0].set_title('Frequency of Years')\n",
    "\n",
    "\n",
    "squarify.plot(sizes=lable_counts.values(), label=labels_with_pct, alpha=0.7, ax=ax[1])\n",
    "ax[1].axis('off')\n",
    "ax[1].set_title(\"Proportional Area Chart of the labels\")\n",
    "\n",
    "# ax[1].bar(sorted_lables, frequencies_labels)\n",
    "# ax[1].set_xlabel('Label')\n",
    "# ax[1].set_ylabel('Count')\n",
    "# ax[1].set_title('Label Frequencies')\n",
    "\n",
    "plt.show()"
   ]
  },
  {
   "cell_type": "markdown",
   "id": "9b464ca4",
   "metadata": {},
   "source": [
    "## Convert texts to TF-IDF vectors"
   ]
  },
  {
   "cell_type": "code",
   "execution_count": 28,
   "id": "5f4d4b45",
   "metadata": {},
   "outputs": [],
   "source": [
    "vectorizer = TfidfVectorizer(max_features=1000)\n",
    "X = vectorizer.fit_transform(preprocessed_texts).toarray()\n",
    "y = np.array(labels)"
   ]
  },
  {
   "cell_type": "markdown",
   "id": "19bc47ba",
   "metadata": {},
   "source": [
    "## Create a PyTorch dataset"
   ]
  },
  {
   "cell_type": "code",
   "execution_count": 29,
   "id": "b31a0704",
   "metadata": {},
   "outputs": [],
   "source": [
    "class TextDataset(Dataset):\n",
    "    def __init__(self, data, targets):\n",
    "        self.data = torch.tensor(data, dtype=torch.float32)\n",
    "        self.targets = torch.tensor(targets, dtype=torch.long)\n",
    "\n",
    "    def __len__(self):\n",
    "        return len(self.targets)\n",
    "\n",
    "    def __getitem__(self, idx):\n",
    "        return self.data[idx], self.targets[idx]\n",
    "\n",
    "# Split into train/test\n",
    "X_train, X_test, y_train, y_test = train_test_split(X, y, test_size=0.3, random_state=42)\n",
    "\n",
    "train_dataset = DataLoader(TextDataset(X_train, y_train), batch_size=32, shuffle=True)\n",
    "test_dataset = DataLoader(TextDataset(X_test, y_test), batch_size=32)"
   ]
  },
  {
   "cell_type": "markdown",
   "id": "164e221f",
   "metadata": {},
   "source": [
    "# Basic NN"
   ]
  },
  {
   "cell_type": "markdown",
   "id": "b92f3e8d",
   "metadata": {},
   "source": [
    "## Model Class"
   ]
  },
  {
   "cell_type": "code",
   "execution_count": 16,
   "id": "9b795f87",
   "metadata": {},
   "outputs": [],
   "source": [
    "# Define the FCNN model\n",
    "class FCNN(nn.Module):\n",
    "    def __init__(self, input_size, hidden_size, num_classes):\n",
    "        super(FCNN, self).__init__()\n",
    "        self.fc1 = nn.Linear(input_size, hidden_size)\n",
    "        self.relu = nn.ReLU()\n",
    "        self.fc2 = nn.Linear(hidden_size, num_classes)\n",
    "\n",
    "    def forward(self, x):\n",
    "        out = self.fc1(x)\n",
    "        out = self.relu(out)\n",
    "        out = self.fc2(out)\n",
    "        return out"
   ]
  },
  {
   "cell_type": "markdown",
   "id": "d4d05348",
   "metadata": {},
   "source": [
    "## Initialize Model, Loss and Optimizer"
   ]
  },
  {
   "cell_type": "code",
   "execution_count": 17,
   "id": "e4c834bd",
   "metadata": {},
   "outputs": [],
   "source": [
    "fcnn = FCNN(input_size=1000, hidden_size=256, num_classes=21)\n",
    "loss_function = nn.CrossEntropyLoss()\n",
    "optimizer = torch.optim.Adam(fcnn.parameters(), lr=0.001)"
   ]
  },
  {
   "cell_type": "markdown",
   "id": "425d9d83",
   "metadata": {},
   "source": [
    "## Training and Testing"
   ]
  },
  {
   "cell_type": "code",
   "execution_count": 18,
   "id": "66121032",
   "metadata": {},
   "outputs": [],
   "source": [
    "def train(model, train_loader, optimizer, epoch):\n",
    "    model.train()\n",
    "    for step, (data, target) in enumerate(train_loader):\n",
    "        optimizer.zero_grad()\n",
    "        output = model(data)\n",
    "        loss = loss_function(output, target)\n",
    "        loss.backward()\n",
    "        optimizer.step()\n",
    "        if step % 100 == 0:\n",
    "            print('Train Epoch: {} [{}/{} ({:.0f}%)]\\tLoss: {:.6f}'.format(\n",
    "                epoch, step * len(data), len(train_loader.dataset),\n",
    "                100. * step / len(train_loader), loss.item()))"
   ]
  },
  {
   "cell_type": "code",
   "execution_count": 19,
   "id": "7f3f38b0",
   "metadata": {},
   "outputs": [],
   "source": [
    "def test(model, test_loader):\n",
    "    model.eval()\n",
    "    test_loss = 0\n",
    "    correct = 0\n",
    "    with torch.no_grad():\n",
    "        for data, target in test_loader:\n",
    "            output = model(data)\n",
    "            test_loss += loss_function(output, target).item() * target.size(0)\n",
    "            pred = output.argmax(dim=1)\n",
    "            correct += pred.eq(target).sum().item()\n",
    "\n",
    "    test_loss /= len(test_loader.dataset)\n",
    "    accuracy = 100. * correct / len(test_loader.dataset)\n",
    "    print('\\nTest set: Average loss: {:.4f}, Accuracy: {}/{} ({:.0f}%)\\n'.format(\n",
    "        test_loss, correct, len(test_loader.dataset), accuracy))"
   ]
  },
  {
   "cell_type": "code",
   "execution_count": 20,
   "id": "421acd19",
   "metadata": {},
   "outputs": [
    {
     "name": "stdout",
     "output_type": "stream",
     "text": [
      "Train Epoch: 1 [0/151881 (0%)]\tLoss: 3.045285\n",
      "Train Epoch: 1 [3200/151881 (2%)]\tLoss: 1.659530\n",
      "Train Epoch: 1 [6400/151881 (4%)]\tLoss: 0.800069\n",
      "Train Epoch: 1 [9600/151881 (6%)]\tLoss: 0.381011\n",
      "Train Epoch: 1 [12800/151881 (8%)]\tLoss: 0.414087\n",
      "Train Epoch: 1 [16000/151881 (11%)]\tLoss: 0.458306\n",
      "Train Epoch: 1 [19200/151881 (13%)]\tLoss: 0.380540\n",
      "Train Epoch: 1 [22400/151881 (15%)]\tLoss: 0.164928\n",
      "Train Epoch: 1 [25600/151881 (17%)]\tLoss: 0.217871\n",
      "Train Epoch: 1 [28800/151881 (19%)]\tLoss: 0.135074\n",
      "Train Epoch: 1 [32000/151881 (21%)]\tLoss: 0.268345\n",
      "Train Epoch: 1 [35200/151881 (23%)]\tLoss: 0.304954\n",
      "Train Epoch: 1 [38400/151881 (25%)]\tLoss: 0.245023\n",
      "Train Epoch: 1 [41600/151881 (27%)]\tLoss: 0.156764\n",
      "Train Epoch: 1 [44800/151881 (29%)]\tLoss: 0.371206\n",
      "Train Epoch: 1 [48000/151881 (32%)]\tLoss: 0.452811\n",
      "Train Epoch: 1 [51200/151881 (34%)]\tLoss: 0.323723\n",
      "Train Epoch: 1 [54400/151881 (36%)]\tLoss: 0.161352\n",
      "Train Epoch: 1 [57600/151881 (38%)]\tLoss: 0.315475\n",
      "Train Epoch: 1 [60800/151881 (40%)]\tLoss: 0.350192\n",
      "Train Epoch: 1 [64000/151881 (42%)]\tLoss: 0.157635\n",
      "Train Epoch: 1 [67200/151881 (44%)]\tLoss: 0.106381\n",
      "Train Epoch: 1 [70400/151881 (46%)]\tLoss: 0.144152\n",
      "Train Epoch: 1 [73600/151881 (48%)]\tLoss: 0.245546\n",
      "Train Epoch: 1 [76800/151881 (51%)]\tLoss: 0.346428\n",
      "Train Epoch: 1 [80000/151881 (53%)]\tLoss: 0.152913\n",
      "Train Epoch: 1 [83200/151881 (55%)]\tLoss: 0.259302\n",
      "Train Epoch: 1 [86400/151881 (57%)]\tLoss: 0.369950\n",
      "Train Epoch: 1 [89600/151881 (59%)]\tLoss: 0.108328\n",
      "Train Epoch: 1 [92800/151881 (61%)]\tLoss: 0.084287\n",
      "Train Epoch: 1 [96000/151881 (63%)]\tLoss: 0.319721\n",
      "Train Epoch: 1 [99200/151881 (65%)]\tLoss: 0.121536\n",
      "Train Epoch: 1 [102400/151881 (67%)]\tLoss: 0.160990\n",
      "Train Epoch: 1 [105600/151881 (70%)]\tLoss: 0.055550\n",
      "Train Epoch: 1 [108800/151881 (72%)]\tLoss: 0.126234\n",
      "Train Epoch: 1 [112000/151881 (74%)]\tLoss: 0.436818\n",
      "Train Epoch: 1 [115200/151881 (76%)]\tLoss: 0.094357\n",
      "Train Epoch: 1 [118400/151881 (78%)]\tLoss: 0.159240\n",
      "Train Epoch: 1 [121600/151881 (80%)]\tLoss: 0.134710\n",
      "Train Epoch: 1 [124800/151881 (82%)]\tLoss: 0.035499\n",
      "Train Epoch: 1 [128000/151881 (84%)]\tLoss: 0.191563\n",
      "Train Epoch: 1 [131200/151881 (86%)]\tLoss: 0.152207\n",
      "Train Epoch: 1 [134400/151881 (88%)]\tLoss: 0.170145\n",
      "Train Epoch: 1 [137600/151881 (91%)]\tLoss: 0.211533\n",
      "Train Epoch: 1 [140800/151881 (93%)]\tLoss: 0.415906\n",
      "Train Epoch: 1 [144000/151881 (95%)]\tLoss: 0.528706\n",
      "Train Epoch: 1 [147200/151881 (97%)]\tLoss: 0.199174\n",
      "Train Epoch: 1 [150400/151881 (99%)]\tLoss: 0.076498\n",
      "\n",
      "Test set: Average loss: 0.1794, Accuracy: 61660/65093 (95%)\n",
      "\n",
      "Train Epoch: 2 [0/151881 (0%)]\tLoss: 0.120412\n",
      "Train Epoch: 2 [3200/151881 (2%)]\tLoss: 0.107070\n",
      "Train Epoch: 2 [6400/151881 (4%)]\tLoss: 0.017346\n",
      "Train Epoch: 2 [9600/151881 (6%)]\tLoss: 0.169581\n",
      "Train Epoch: 2 [12800/151881 (8%)]\tLoss: 0.046006\n",
      "Train Epoch: 2 [16000/151881 (11%)]\tLoss: 0.309568\n",
      "Train Epoch: 2 [19200/151881 (13%)]\tLoss: 0.074678\n",
      "Train Epoch: 2 [22400/151881 (15%)]\tLoss: 0.042610\n",
      "Train Epoch: 2 [25600/151881 (17%)]\tLoss: 0.153163\n",
      "Train Epoch: 2 [28800/151881 (19%)]\tLoss: 0.342815\n",
      "Train Epoch: 2 [32000/151881 (21%)]\tLoss: 0.106702\n",
      "Train Epoch: 2 [35200/151881 (23%)]\tLoss: 0.259291\n",
      "Train Epoch: 2 [38400/151881 (25%)]\tLoss: 0.122657\n",
      "Train Epoch: 2 [41600/151881 (27%)]\tLoss: 0.077122\n",
      "Train Epoch: 2 [44800/151881 (29%)]\tLoss: 0.363806\n",
      "Train Epoch: 2 [48000/151881 (32%)]\tLoss: 0.163034\n",
      "Train Epoch: 2 [51200/151881 (34%)]\tLoss: 0.224350\n",
      "Train Epoch: 2 [54400/151881 (36%)]\tLoss: 0.523826\n",
      "Train Epoch: 2 [57600/151881 (38%)]\tLoss: 0.152555\n",
      "Train Epoch: 2 [60800/151881 (40%)]\tLoss: 0.125194\n",
      "Train Epoch: 2 [64000/151881 (42%)]\tLoss: 0.321367\n",
      "Train Epoch: 2 [67200/151881 (44%)]\tLoss: 0.198632\n",
      "Train Epoch: 2 [70400/151881 (46%)]\tLoss: 0.194205\n",
      "Train Epoch: 2 [73600/151881 (48%)]\tLoss: 0.202218\n",
      "Train Epoch: 2 [76800/151881 (51%)]\tLoss: 0.216755\n",
      "Train Epoch: 2 [80000/151881 (53%)]\tLoss: 0.023519\n",
      "Train Epoch: 2 [83200/151881 (55%)]\tLoss: 0.141828\n",
      "Train Epoch: 2 [86400/151881 (57%)]\tLoss: 0.101452\n",
      "Train Epoch: 2 [89600/151881 (59%)]\tLoss: 0.175606\n",
      "Train Epoch: 2 [92800/151881 (61%)]\tLoss: 0.258173\n",
      "Train Epoch: 2 [96000/151881 (63%)]\tLoss: 0.280995\n",
      "Train Epoch: 2 [99200/151881 (65%)]\tLoss: 0.274096\n",
      "Train Epoch: 2 [102400/151881 (67%)]\tLoss: 0.144004\n",
      "Train Epoch: 2 [105600/151881 (70%)]\tLoss: 0.248223\n",
      "Train Epoch: 2 [108800/151881 (72%)]\tLoss: 0.043733\n",
      "Train Epoch: 2 [112000/151881 (74%)]\tLoss: 0.256877\n",
      "Train Epoch: 2 [115200/151881 (76%)]\tLoss: 0.124568\n",
      "Train Epoch: 2 [118400/151881 (78%)]\tLoss: 0.048495\n",
      "Train Epoch: 2 [121600/151881 (80%)]\tLoss: 0.246846\n",
      "Train Epoch: 2 [124800/151881 (82%)]\tLoss: 0.092690\n",
      "Train Epoch: 2 [128000/151881 (84%)]\tLoss: 0.098093\n",
      "Train Epoch: 2 [131200/151881 (86%)]\tLoss: 0.281976\n",
      "Train Epoch: 2 [134400/151881 (88%)]\tLoss: 0.228386\n",
      "Train Epoch: 2 [137600/151881 (91%)]\tLoss: 0.201436\n",
      "Train Epoch: 2 [140800/151881 (93%)]\tLoss: 0.090972\n",
      "Train Epoch: 2 [144000/151881 (95%)]\tLoss: 0.198712\n",
      "Train Epoch: 2 [147200/151881 (97%)]\tLoss: 0.046919\n",
      "Train Epoch: 2 [150400/151881 (99%)]\tLoss: 0.255068\n",
      "\n",
      "Test set: Average loss: 0.1713, Accuracy: 61690/65093 (95%)\n",
      "\n",
      "Train Epoch: 3 [0/151881 (0%)]\tLoss: 0.150151\n",
      "Train Epoch: 3 [3200/151881 (2%)]\tLoss: 0.155075\n",
      "Train Epoch: 3 [6400/151881 (4%)]\tLoss: 0.129660\n",
      "Train Epoch: 3 [9600/151881 (6%)]\tLoss: 0.386330\n",
      "Train Epoch: 3 [12800/151881 (8%)]\tLoss: 0.237326\n",
      "Train Epoch: 3 [16000/151881 (11%)]\tLoss: 0.246780\n",
      "Train Epoch: 3 [19200/151881 (13%)]\tLoss: 0.216942\n",
      "Train Epoch: 3 [22400/151881 (15%)]\tLoss: 0.030808\n",
      "Train Epoch: 3 [25600/151881 (17%)]\tLoss: 0.197952\n",
      "Train Epoch: 3 [28800/151881 (19%)]\tLoss: 0.247708\n",
      "Train Epoch: 3 [32000/151881 (21%)]\tLoss: 0.256832\n",
      "Train Epoch: 3 [35200/151881 (23%)]\tLoss: 0.219736\n",
      "Train Epoch: 3 [38400/151881 (25%)]\tLoss: 0.187579\n",
      "Train Epoch: 3 [41600/151881 (27%)]\tLoss: 0.316985\n",
      "Train Epoch: 3 [44800/151881 (29%)]\tLoss: 0.046261\n",
      "Train Epoch: 3 [48000/151881 (32%)]\tLoss: 0.240494\n",
      "Train Epoch: 3 [51200/151881 (34%)]\tLoss: 0.056220\n",
      "Train Epoch: 3 [54400/151881 (36%)]\tLoss: 0.003161\n",
      "Train Epoch: 3 [57600/151881 (38%)]\tLoss: 0.071650\n",
      "Train Epoch: 3 [60800/151881 (40%)]\tLoss: 0.265705\n",
      "Train Epoch: 3 [64000/151881 (42%)]\tLoss: 0.117537\n",
      "Train Epoch: 3 [67200/151881 (44%)]\tLoss: 0.112636\n",
      "Train Epoch: 3 [70400/151881 (46%)]\tLoss: 0.066660\n",
      "Train Epoch: 3 [73600/151881 (48%)]\tLoss: 0.517527\n",
      "Train Epoch: 3 [76800/151881 (51%)]\tLoss: 0.163796\n",
      "Train Epoch: 3 [80000/151881 (53%)]\tLoss: 0.238913\n",
      "Train Epoch: 3 [83200/151881 (55%)]\tLoss: 0.066336\n",
      "Train Epoch: 3 [86400/151881 (57%)]\tLoss: 0.073289\n",
      "Train Epoch: 3 [89600/151881 (59%)]\tLoss: 0.086769\n",
      "Train Epoch: 3 [92800/151881 (61%)]\tLoss: 0.039669\n",
      "Train Epoch: 3 [96000/151881 (63%)]\tLoss: 0.229025\n",
      "Train Epoch: 3 [99200/151881 (65%)]\tLoss: 0.151027\n",
      "Train Epoch: 3 [102400/151881 (67%)]\tLoss: 0.151804\n",
      "Train Epoch: 3 [105600/151881 (70%)]\tLoss: 0.168399\n",
      "Train Epoch: 3 [108800/151881 (72%)]\tLoss: 0.168851\n",
      "Train Epoch: 3 [112000/151881 (74%)]\tLoss: 0.278424\n",
      "Train Epoch: 3 [115200/151881 (76%)]\tLoss: 0.070265\n",
      "Train Epoch: 3 [118400/151881 (78%)]\tLoss: 0.067676\n",
      "Train Epoch: 3 [121600/151881 (80%)]\tLoss: 0.137529\n",
      "Train Epoch: 3 [124800/151881 (82%)]\tLoss: 0.154282\n",
      "Train Epoch: 3 [128000/151881 (84%)]\tLoss: 0.108232\n",
      "Train Epoch: 3 [131200/151881 (86%)]\tLoss: 0.149771\n",
      "Train Epoch: 3 [134400/151881 (88%)]\tLoss: 0.228161\n",
      "Train Epoch: 3 [137600/151881 (91%)]\tLoss: 0.082856\n",
      "Train Epoch: 3 [140800/151881 (93%)]\tLoss: 0.190809\n",
      "Train Epoch: 3 [144000/151881 (95%)]\tLoss: 0.046073\n",
      "Train Epoch: 3 [147200/151881 (97%)]\tLoss: 0.291157\n",
      "Train Epoch: 3 [150400/151881 (99%)]\tLoss: 0.054684\n",
      "\n",
      "Test set: Average loss: 0.1639, Accuracy: 61895/65093 (95%)\n",
      "\n",
      "Train Epoch: 4 [0/151881 (0%)]\tLoss: 0.084500\n",
      "Train Epoch: 4 [3200/151881 (2%)]\tLoss: 0.154825\n",
      "Train Epoch: 4 [6400/151881 (4%)]\tLoss: 0.196592\n",
      "Train Epoch: 4 [9600/151881 (6%)]\tLoss: 0.090934\n",
      "Train Epoch: 4 [12800/151881 (8%)]\tLoss: 0.023642\n",
      "Train Epoch: 4 [16000/151881 (11%)]\tLoss: 0.078576\n",
      "Train Epoch: 4 [19200/151881 (13%)]\tLoss: 0.543946\n",
      "Train Epoch: 4 [22400/151881 (15%)]\tLoss: 0.142010\n",
      "Train Epoch: 4 [25600/151881 (17%)]\tLoss: 0.090303\n",
      "Train Epoch: 4 [28800/151881 (19%)]\tLoss: 0.043356\n",
      "Train Epoch: 4 [32000/151881 (21%)]\tLoss: 0.225309\n",
      "Train Epoch: 4 [35200/151881 (23%)]\tLoss: 0.184500\n",
      "Train Epoch: 4 [38400/151881 (25%)]\tLoss: 0.084709\n",
      "Train Epoch: 4 [41600/151881 (27%)]\tLoss: 0.394395\n",
      "Train Epoch: 4 [44800/151881 (29%)]\tLoss: 0.236209\n",
      "Train Epoch: 4 [48000/151881 (32%)]\tLoss: 0.133401\n",
      "Train Epoch: 4 [51200/151881 (34%)]\tLoss: 0.008417\n",
      "Train Epoch: 4 [54400/151881 (36%)]\tLoss: 0.236560\n",
      "Train Epoch: 4 [57600/151881 (38%)]\tLoss: 0.123677\n",
      "Train Epoch: 4 [60800/151881 (40%)]\tLoss: 0.194296\n",
      "Train Epoch: 4 [64000/151881 (42%)]\tLoss: 0.067972\n",
      "Train Epoch: 4 [67200/151881 (44%)]\tLoss: 0.026625\n",
      "Train Epoch: 4 [70400/151881 (46%)]\tLoss: 0.076765\n",
      "Train Epoch: 4 [73600/151881 (48%)]\tLoss: 0.180467\n",
      "Train Epoch: 4 [76800/151881 (51%)]\tLoss: 0.200059\n",
      "Train Epoch: 4 [80000/151881 (53%)]\tLoss: 0.162805\n",
      "Train Epoch: 4 [83200/151881 (55%)]\tLoss: 0.140871\n",
      "Train Epoch: 4 [86400/151881 (57%)]\tLoss: 0.077023\n",
      "Train Epoch: 4 [89600/151881 (59%)]\tLoss: 0.515123\n",
      "Train Epoch: 4 [92800/151881 (61%)]\tLoss: 0.242243\n",
      "Train Epoch: 4 [96000/151881 (63%)]\tLoss: 0.181596\n",
      "Train Epoch: 4 [99200/151881 (65%)]\tLoss: 0.066804\n",
      "Train Epoch: 4 [102400/151881 (67%)]\tLoss: 0.054697\n",
      "Train Epoch: 4 [105600/151881 (70%)]\tLoss: 0.059447\n",
      "Train Epoch: 4 [108800/151881 (72%)]\tLoss: 0.120169\n",
      "Train Epoch: 4 [112000/151881 (74%)]\tLoss: 0.066256\n",
      "Train Epoch: 4 [115200/151881 (76%)]\tLoss: 0.112700\n",
      "Train Epoch: 4 [118400/151881 (78%)]\tLoss: 0.050304\n",
      "Train Epoch: 4 [121600/151881 (80%)]\tLoss: 0.061286\n",
      "Train Epoch: 4 [124800/151881 (82%)]\tLoss: 0.121342\n",
      "Train Epoch: 4 [128000/151881 (84%)]\tLoss: 0.290811\n",
      "Train Epoch: 4 [131200/151881 (86%)]\tLoss: 0.322972\n",
      "Train Epoch: 4 [134400/151881 (88%)]\tLoss: 0.011247\n",
      "Train Epoch: 4 [137600/151881 (91%)]\tLoss: 0.187618\n",
      "Train Epoch: 4 [140800/151881 (93%)]\tLoss: 0.182094\n",
      "Train Epoch: 4 [144000/151881 (95%)]\tLoss: 0.260151\n",
      "Train Epoch: 4 [147200/151881 (97%)]\tLoss: 0.024294\n",
      "Train Epoch: 4 [150400/151881 (99%)]\tLoss: 0.096604\n",
      "\n",
      "Test set: Average loss: 0.1627, Accuracy: 61971/65093 (95%)\n",
      "\n",
      "Train Epoch: 5 [0/151881 (0%)]\tLoss: 0.083617\n",
      "Train Epoch: 5 [3200/151881 (2%)]\tLoss: 0.056211\n",
      "Train Epoch: 5 [6400/151881 (4%)]\tLoss: 0.056331\n",
      "Train Epoch: 5 [9600/151881 (6%)]\tLoss: 0.100591\n",
      "Train Epoch: 5 [12800/151881 (8%)]\tLoss: 0.057553\n",
      "Train Epoch: 5 [16000/151881 (11%)]\tLoss: 0.031600\n",
      "Train Epoch: 5 [19200/151881 (13%)]\tLoss: 0.008038\n",
      "Train Epoch: 5 [22400/151881 (15%)]\tLoss: 0.240820\n",
      "Train Epoch: 5 [25600/151881 (17%)]\tLoss: 0.191713\n",
      "Train Epoch: 5 [28800/151881 (19%)]\tLoss: 0.050194\n",
      "Train Epoch: 5 [32000/151881 (21%)]\tLoss: 0.176213\n",
      "Train Epoch: 5 [35200/151881 (23%)]\tLoss: 0.041967\n",
      "Train Epoch: 5 [38400/151881 (25%)]\tLoss: 0.018080\n",
      "Train Epoch: 5 [41600/151881 (27%)]\tLoss: 0.039108\n",
      "Train Epoch: 5 [44800/151881 (29%)]\tLoss: 0.027777\n",
      "Train Epoch: 5 [48000/151881 (32%)]\tLoss: 0.067851\n",
      "Train Epoch: 5 [51200/151881 (34%)]\tLoss: 0.211999\n",
      "Train Epoch: 5 [54400/151881 (36%)]\tLoss: 0.075577\n",
      "Train Epoch: 5 [57600/151881 (38%)]\tLoss: 0.032278\n",
      "Train Epoch: 5 [60800/151881 (40%)]\tLoss: 0.013152\n",
      "Train Epoch: 5 [64000/151881 (42%)]\tLoss: 0.061973\n",
      "Train Epoch: 5 [67200/151881 (44%)]\tLoss: 0.292362\n",
      "Train Epoch: 5 [70400/151881 (46%)]\tLoss: 0.015005\n",
      "Train Epoch: 5 [73600/151881 (48%)]\tLoss: 0.028062\n",
      "Train Epoch: 5 [76800/151881 (51%)]\tLoss: 0.048180\n",
      "Train Epoch: 5 [80000/151881 (53%)]\tLoss: 0.045113\n",
      "Train Epoch: 5 [83200/151881 (55%)]\tLoss: 0.031787\n",
      "Train Epoch: 5 [86400/151881 (57%)]\tLoss: 0.121238\n",
      "Train Epoch: 5 [89600/151881 (59%)]\tLoss: 0.107220\n",
      "Train Epoch: 5 [92800/151881 (61%)]\tLoss: 0.018448\n",
      "Train Epoch: 5 [96000/151881 (63%)]\tLoss: 0.092172\n",
      "Train Epoch: 5 [99200/151881 (65%)]\tLoss: 0.126410\n",
      "Train Epoch: 5 [102400/151881 (67%)]\tLoss: 0.040638\n",
      "Train Epoch: 5 [105600/151881 (70%)]\tLoss: 0.047583\n",
      "Train Epoch: 5 [108800/151881 (72%)]\tLoss: 0.076023\n",
      "Train Epoch: 5 [112000/151881 (74%)]\tLoss: 0.130485\n",
      "Train Epoch: 5 [115200/151881 (76%)]\tLoss: 0.116517\n",
      "Train Epoch: 5 [118400/151881 (78%)]\tLoss: 0.005231\n",
      "Train Epoch: 5 [121600/151881 (80%)]\tLoss: 0.154367\n",
      "Train Epoch: 5 [124800/151881 (82%)]\tLoss: 0.017882\n",
      "Train Epoch: 5 [128000/151881 (84%)]\tLoss: 0.190925\n",
      "Train Epoch: 5 [131200/151881 (86%)]\tLoss: 0.136440\n",
      "Train Epoch: 5 [134400/151881 (88%)]\tLoss: 0.085820\n",
      "Train Epoch: 5 [137600/151881 (91%)]\tLoss: 0.209319\n",
      "Train Epoch: 5 [140800/151881 (93%)]\tLoss: 0.145993\n",
      "Train Epoch: 5 [144000/151881 (95%)]\tLoss: 0.137433\n",
      "Train Epoch: 5 [147200/151881 (97%)]\tLoss: 0.112476\n",
      "Train Epoch: 5 [150400/151881 (99%)]\tLoss: 0.137720\n",
      "\n",
      "Test set: Average loss: 0.1643, Accuracy: 61966/65093 (95%)\n",
      "\n"
     ]
    }
   ],
   "source": [
    "num_epochs = 5\n",
    "for epoch in range(1, num_epochs + 1):\n",
    "    train(fcnn, train_dataset, optimizer, epoch)\n",
    "    test(fcnn, test_dataset)"
   ]
  },
  {
   "cell_type": "markdown",
   "id": "436bb7ac",
   "metadata": {},
   "source": [
    "# Transformer model"
   ]
  },
  {
   "cell_type": "code",
   "execution_count": 24,
   "id": "09648a2e",
   "metadata": {},
   "outputs": [],
   "source": [
    "from datasets import Dataset\n",
    "from transformers import AutoTokenizer, AutoModelForSequenceClassification\n",
    "from transformers import Trainer, TrainingArguments\n",
    "import evaluate\n",
    "import accelerate"
   ]
  },
  {
   "cell_type": "markdown",
   "id": "0adbd8d7",
   "metadata": {},
   "source": [
    "Hugging face BERT-like models expects tokenized inputs (This is done by lazy-tokenization):"
   ]
  },
  {
   "cell_type": "code",
   "execution_count": 34,
   "id": "82d17a61",
   "metadata": {},
   "outputs": [
    {
     "name": "stderr",
     "output_type": "stream",
     "text": [
      "Map: 100%|██████████| 162730/162730 [00:31<00:00, 5119.31 examples/s]\n",
      "Map: 100%|██████████| 54244/54244 [00:10<00:00, 5329.54 examples/s]\n"
     ]
    }
   ],
   "source": [
    "df = pd.DataFrame({\n",
    "    \"text\": preprocessed_texts,\n",
    "    \"label\": labels\n",
    "})\n",
    "\n",
    "train_tok, test_tok = train_test_split(df, test_size=0.25,\n",
    "                                       stratify=labels, random_state=0)\n",
    "\n",
    "train_tok = Dataset.from_pandas(train_tok)\n",
    "test_tok   = Dataset.from_pandas(test_tok)\n",
    "\n",
    "tokenizer = AutoTokenizer.from_pretrained(\"bert-base-uncased\")\n",
    "\n",
    "def tokenize(batch):\n",
    "    return tokenizer(batch['text'],\n",
    "                     padding='max_length',\n",
    "                     truncation=True\n",
    "                     )\n",
    "\n",
    "# Convert to HuggingFace Dataset object to be able to use .map()\n",
    "# train_dataset = Dataset.from_dict({\"text\": X_train_tok, \"label\": y_train_tok})\n",
    "# test_dataset  = Dataset.from_dict({\"text\": X_test_tok,  \"label\": y_test_tok})\n",
    "train_tok = train_tok.map(tokenize)\n",
    "test_tok  = test_tok.map(tokenize)\n",
    "\n",
    "train_tok.set_format(type=\"torch\", columns=[\"input_ids\", \"attention_mask\", \"label\"])\n",
    "test_tok.set_format(type=\"torch\", columns=[\"input_ids\", \"attention_mask\", \"label\"])"
   ]
  },
  {
   "cell_type": "markdown",
   "id": "21e44f0d",
   "metadata": {},
   "source": [
    "APUNTAR EN EL PPT QUÈ MERDES ÉS EL BERT-BASE-UNCASED:\n",
    "\n",
    "- **BERT** stands for **Bidirectional Encoder Representations from Transformers**.\n",
    "\n",
    "- It’s a pretrained Transformer-based model developed by Google in 2018.\n",
    "\n",
    "- Designed to understand language **bidirectionally** (looking at context from both left and right).\n",
    "\n",
    "- `\"base\"` means it’s the smaller version of BERT (compared to `bert-large`).\n",
    "\n",
    "- `\"uncased\"` means it does not distinguish uppercase and lowercase letters — input text is lowercased before tokenization.\n",
    "\n",
    "\n",
    "When to Use:\n",
    "- Great general-purpose language model.\n",
    "\n",
    "- Lowercased text input, so works best on texts that are not case-sensitive.\n",
    "\n",
    "- Efficient enough for many applications while maintaining strong performance.\n",
    "\n",
    "Model Specs:\n",
    "\n",
    "| Feature                | Description                 |\n",
    "|------------------------|-----------------------------|\n",
    "| Layers (Transformer blocks) | 12                      |\n",
    "| Hidden size            | 768                         |\n",
    "| Attention heads        | 12                          |\n",
    "| Parameters             | ~110 million                |\n",
    "| Vocabulary size        | 30,522 tokens               |\n",
    "| Max input length       | 512 tokens                  |"
   ]
  },
  {
   "cell_type": "code",
   "execution_count": 35,
   "id": "c8fa5426",
   "metadata": {},
   "outputs": [
    {
     "name": "stderr",
     "output_type": "stream",
     "text": [
      "Some weights of BertForSequenceClassification were not initialized from the model checkpoint at bert-base-uncased and are newly initialized: ['classifier.bias', 'classifier.weight']\n",
      "You should probably TRAIN this model on a down-stream task to be able to use it for predictions and inference.\n"
     ]
    }
   ],
   "source": [
    "model = AutoModelForSequenceClassification.from_pretrained(\n",
    "    \"bert-base-uncased\",\n",
    "    num_labels=21,\n",
    ")"
   ]
  },
  {
   "cell_type": "markdown",
   "id": "d146003e",
   "metadata": {},
   "source": [
    "Trainer wrapping (so it can be used as a sklearn-like model)"
   ]
  },
  {
   "cell_type": "code",
   "execution_count": 38,
   "id": "3b33b400",
   "metadata": {},
   "outputs": [],
   "source": [
    "accuracy = evaluate.load(\"accuracy\")\n",
    "\n",
    "def compute_metrics(eval_pred):\n",
    "    logits, labels = eval_pred\n",
    "    preds = np.argmax(logits, axis=-1)\n",
    "    return accuracy.compute(predictions=preds, references=labels)\n",
    "\n",
    "args = TrainingArguments(\n",
    "    output_dir=\"outputs\",\n",
    "    per_device_train_batch_size=8,\n",
    "    per_device_eval_batch_size=8,\n",
    "    eval_strategy=\"epoch\",\n",
    "    num_train_epochs=2,           # 2-3 epochs usually fine when fine-tuning\n",
    "    fp16=True,\n",
    "    seed=42,\n",
    ")\n",
    "\n",
    "trainer = Trainer(\n",
    "    model=model,\n",
    "    args=args,\n",
    "    train_dataset=train_tok,\n",
    "    eval_dataset=test_tok,\n",
    "    compute_metrics=compute_metrics,\n",
    "    processing_class=tokenizer,\n",
    ")"
   ]
  },
  {
   "cell_type": "markdown",
   "id": "679f00cb",
   "metadata": {},
   "source": [
    "Run model"
   ]
  },
  {
   "cell_type": "code",
   "execution_count": 39,
   "id": "ca077e69",
   "metadata": {},
   "outputs": [
    {
     "data": {
      "text/html": [
       "\n",
       "    <div>\n",
       "      \n",
       "      <progress value='40684' max='40684' style='width:300px; height:20px; vertical-align: middle;'></progress>\n",
       "      [40684/40684 1:16:04, Epoch 2/2]\n",
       "    </div>\n",
       "    <table border=\"1\" class=\"dataframe\">\n",
       "  <thead>\n",
       " <tr style=\"text-align: left;\">\n",
       "      <th>Epoch</th>\n",
       "      <th>Training Loss</th>\n",
       "      <th>Validation Loss</th>\n",
       "      <th>Accuracy</th>\n",
       "    </tr>\n",
       "  </thead>\n",
       "  <tbody>\n",
       "    <tr>\n",
       "      <td>1</td>\n",
       "      <td>0.211900</td>\n",
       "      <td>0.201387</td>\n",
       "      <td>0.954742</td>\n",
       "    </tr>\n",
       "    <tr>\n",
       "      <td>2</td>\n",
       "      <td>0.147700</td>\n",
       "      <td>0.162076</td>\n",
       "      <td>0.963093</td>\n",
       "    </tr>\n",
       "  </tbody>\n",
       "</table><p>"
      ],
      "text/plain": [
       "<IPython.core.display.HTML object>"
      ]
     },
     "metadata": {},
     "output_type": "display_data"
    },
    {
     "data": {
      "text/html": [
       "\n",
       "    <div>\n",
       "      \n",
       "      <progress value='6781' max='6781' style='width:300px; height:20px; vertical-align: middle;'></progress>\n",
       "      [6781/6781 02:16]\n",
       "    </div>\n",
       "    "
      ],
      "text/plain": [
       "<IPython.core.display.HTML object>"
      ]
     },
     "metadata": {},
     "output_type": "display_data"
    },
    {
     "data": {
      "text/plain": [
       "{'eval_loss': 0.16207608580589294,\n",
       " 'eval_accuracy': 0.9630926922793305,\n",
       " 'eval_runtime': 136.7285,\n",
       " 'eval_samples_per_second': 396.728,\n",
       " 'eval_steps_per_second': 49.595,\n",
       " 'epoch': 2.0}"
      ]
     },
     "execution_count": 39,
     "metadata": {},
     "output_type": "execute_result"
    }
   ],
   "source": [
    "trainer.train()\n",
    "trainer.evaluate()"
   ]
  }
 ],
 "metadata": {
  "kernelspec": {
   "display_name": ".venv",
   "language": "python",
   "name": "python3"
  },
  "language_info": {
   "codemirror_mode": {
    "name": "ipython",
    "version": 3
   },
   "file_extension": ".py",
   "mimetype": "text/x-python",
   "name": "python",
   "nbconvert_exporter": "python",
   "pygments_lexer": "ipython3",
   "version": "3.12.3"
  }
 },
 "nbformat": 4,
 "nbformat_minor": 5
}
