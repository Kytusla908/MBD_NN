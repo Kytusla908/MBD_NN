{
 "cells": [
  {
   "cell_type": "markdown",
   "id": "aaeb5afc",
   "metadata": {},
   "source": [
    "# Imports"
   ]
  },
  {
   "cell_type": "code",
   "execution_count": 3,
   "id": "0ee6758e",
   "metadata": {},
   "outputs": [],
   "source": [
    "import pandas as pd"
   ]
  },
  {
   "cell_type": "markdown",
   "id": "2a8b89c4",
   "metadata": {},
   "source": [
    "# Load csv data"
   ]
  },
  {
   "cell_type": "code",
   "execution_count": 4,
   "id": "3e44c553",
   "metadata": {},
   "outputs": [
    {
     "data": {
      "text/html": [
       "<div>\n",
       "<style scoped>\n",
       "    .dataframe tbody tr th:only-of-type {\n",
       "        vertical-align: middle;\n",
       "    }\n",
       "\n",
       "    .dataframe tbody tr th {\n",
       "        vertical-align: top;\n",
       "    }\n",
       "\n",
       "    .dataframe thead th {\n",
       "        text-align: right;\n",
       "    }\n",
       "</style>\n",
       "<table border=\"1\" class=\"dataframe\">\n",
       "  <thead>\n",
       "    <tr style=\"text-align: right;\">\n",
       "      <th></th>\n",
       "      <th>id</th>\n",
       "      <th>text</th>\n",
       "      <th>class</th>\n",
       "      <th>year</th>\n",
       "    </tr>\n",
       "  </thead>\n",
       "  <tbody>\n",
       "    <tr>\n",
       "      <th>0</th>\n",
       "      <td>0</td>\n",
       "      <td>Licitació de la concessió administrativa de l'...</td>\n",
       "      <td>0</td>\n",
       "      <td>2013</td>\n",
       "    </tr>\n",
       "    <tr>\n",
       "      <th>1</th>\n",
       "      <td>1</td>\n",
       "      <td>Notificació de l'acord de deixar sense efecte ...</td>\n",
       "      <td>17</td>\n",
       "      <td>2013</td>\n",
       "    </tr>\n",
       "    <tr>\n",
       "      <th>2</th>\n",
       "      <td>2</td>\n",
       "      <td>Aprovació de l'expedient de dissolució i liqui...</td>\n",
       "      <td>17</td>\n",
       "      <td>2013</td>\n",
       "    </tr>\n",
       "    <tr>\n",
       "      <th>3</th>\n",
       "      <td>3</td>\n",
       "      <td>Aprovació inicial de la modificació puntual de...</td>\n",
       "      <td>16</td>\n",
       "      <td>2013</td>\n",
       "    </tr>\n",
       "    <tr>\n",
       "      <th>4</th>\n",
       "      <td>4</td>\n",
       "      <td>Aprovació definitiva de l'avanç del Pla de mil...</td>\n",
       "      <td>16</td>\n",
       "      <td>2013</td>\n",
       "    </tr>\n",
       "    <tr>\n",
       "      <th>...</th>\n",
       "      <td>...</td>\n",
       "      <td>...</td>\n",
       "      <td>...</td>\n",
       "      <td>...</td>\n",
       "    </tr>\n",
       "    <tr>\n",
       "      <th>216969</th>\n",
       "      <td>216969</td>\n",
       "      <td>Aprovació definitiva de la modificació de les ...</td>\n",
       "      <td>2</td>\n",
       "      <td>2020</td>\n",
       "    </tr>\n",
       "    <tr>\n",
       "      <th>216970</th>\n",
       "      <td>216970</td>\n",
       "      <td>Aprovació definitiva de l'acord de modificació...</td>\n",
       "      <td>2</td>\n",
       "      <td>2020</td>\n",
       "    </tr>\n",
       "    <tr>\n",
       "      <th>216971</th>\n",
       "      <td>216971</td>\n",
       "      <td>Aprovació de la modificació dels preus públics...</td>\n",
       "      <td>2</td>\n",
       "      <td>2020</td>\n",
       "    </tr>\n",
       "    <tr>\n",
       "      <th>216972</th>\n",
       "      <td>216972</td>\n",
       "      <td>Aprovació definitiva de les ordenances fiscals...</td>\n",
       "      <td>2</td>\n",
       "      <td>2020</td>\n",
       "    </tr>\n",
       "    <tr>\n",
       "      <th>216973</th>\n",
       "      <td>216973</td>\n",
       "      <td>Informació pública sobre la precària situació ...</td>\n",
       "      <td>19</td>\n",
       "      <td>2020</td>\n",
       "    </tr>\n",
       "  </tbody>\n",
       "</table>\n",
       "<p>216974 rows × 4 columns</p>\n",
       "</div>"
      ],
      "text/plain": [
       "            id                                               text  class  year\n",
       "0            0  Licitació de la concessió administrativa de l'...      0  2013\n",
       "1            1  Notificació de l'acord de deixar sense efecte ...     17  2013\n",
       "2            2  Aprovació de l'expedient de dissolució i liqui...     17  2013\n",
       "3            3  Aprovació inicial de la modificació puntual de...     16  2013\n",
       "4            4  Aprovació definitiva de l'avanç del Pla de mil...     16  2013\n",
       "...        ...                                                ...    ...   ...\n",
       "216969  216969  Aprovació definitiva de la modificació de les ...      2  2020\n",
       "216970  216970  Aprovació definitiva de l'acord de modificació...      2  2020\n",
       "216971  216971  Aprovació de la modificació dels preus públics...      2  2020\n",
       "216972  216972  Aprovació definitiva de les ordenances fiscals...      2  2020\n",
       "216973  216973  Informació pública sobre la precària situació ...     19  2020\n",
       "\n",
       "[216974 rows x 4 columns]"
      ]
     },
     "execution_count": 4,
     "metadata": {},
     "output_type": "execute_result"
    }
   ],
   "source": [
    "pd.read_csv('../data/train.csv')"
   ]
  },
  {
   "cell_type": "code",
   "execution_count": null,
   "id": "70965611",
   "metadata": {},
   "outputs": [],
   "source": []
  }
 ],
 "metadata": {
  "kernelspec": {
   "display_name": ".venv",
   "language": "python",
   "name": "python3"
  },
  "language_info": {
   "codemirror_mode": {
    "name": "ipython",
    "version": 3
   },
   "file_extension": ".py",
   "mimetype": "text/x-python",
   "name": "python",
   "nbconvert_exporter": "python",
   "pygments_lexer": "ipython3",
   "version": "3.12.3"
  }
 },
 "nbformat": 4,
 "nbformat_minor": 5
}
