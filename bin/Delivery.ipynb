{
 "cells": [
  {
   "cell_type": "markdown",
   "id": "aaeb5afc",
   "metadata": {},
   "source": [
    "# Imports"
   ]
  },
  {
   "cell_type": "code",
   "execution_count": 66,
   "id": "0ee6758e",
   "metadata": {},
   "outputs": [],
   "source": [
    "import pandas as pd\n",
    "import numpy as np\n",
    "from collections import Counter\n",
    "import matplotlib.pyplot as plt\n",
    "import squarify\n",
    "import spacy\n",
    "\n",
    "import torch\n",
    "import torch.nn as nn\n",
    "import torch.nn.functional as F\n",
    "from torch.utils.data import Dataset, DataLoader\n",
    "\n",
    "from sklearn.feature_extraction.text import TfidfVectorizer\n",
    "from sklearn.model_selection import train_test_split"
   ]
  },
  {
   "cell_type": "markdown",
   "id": "be36222a",
   "metadata": {},
   "source": [
    "Dowanload and load catalan stopwords from `spacy`."
   ]
  },
  {
   "cell_type": "code",
   "execution_count": 3,
   "id": "d3e2e53e",
   "metadata": {},
   "outputs": [
    {
     "name": "stdout",
     "output_type": "stream",
     "text": [
      "Collecting ca-core-news-sm==3.8.0\n",
      "  Using cached https://github.com/explosion/spacy-models/releases/download/ca_core_news_sm-3.8.0/ca_core_news_sm-3.8.0-py3-none-any.whl (19.6 MB)\n",
      "\u001b[38;5;2m✔ Download and installation successful\u001b[0m\n",
      "You can now load the package via spacy.load('ca_core_news_sm')\n",
      "{'altres', 'eres', 'saben', 'mon', 'estic', \"t'ha\", 'estaven', 'meves', 'què', 'propi', 'meus', 'han', 'molts', 'puc', 'cadascuna', 'les', 'mentre', 'meu', 'ne', 'us', 'és', 'ja', 'pels', 'pocs', 'teu', 'últim', 'llarg', 'cada', 'només', 'em', 'mons', 'està', 'o', 'on', 'havia', 'aquest', \"s'han\", 'tinc', 'sa', 'als', 'anar', 'fa', 'faig', 'hi', \"d'una\", 'encara', 'aquella', 'sóc', 'quelcom', 'ser', 'tenim', \"l'hi\", 'poques', 'tenir', 'consegueixo', 'quan', 'va', 'la', 'unes', 'éssent', 'semblant', 'son', 'aquests', 'en', 'nostra', 'sons', 'es', 'aquí', 'els', 'però', 'dels', 'donat', 'allò', 'no', 'oh', 'estem', 'molt', 'primer', \"li'n\", 'quins', 'tampoc', 'veu', 'soc', 'algun', 'quin', 'cadascunes', 'contra', 'abans', 'poca', 'seva', 'vaig', 'estan', 'erem', 'poder', 'eh', 'nostres', 'també', 'estàveu', 'tant', 'totes', 'meva', 'estàvem', 'moltes', 'qual', 'haver', 'bastant', 'tan', 'vam', 'sabem', 'li', 'esteu', 'van', 'conseguir', 'si', 'inclòs', 'alhora', 'així', 'baix', 'aquell', 'tons', 'uns', 'seu', 'sobre', 'aleshores', 'fora', 'jo', 'sense', 'teniu', 'llavors', 'tanta', 'mateixes', \"t'he\", 'ta', 'aquestes', 'podeu', 'gairebé', 'altre', 'mode', 'ton', 'dalt', 'fer', 'esta', 'me', 'vas', 'ens', 'per', 'allà', 'alguns', 'després', 'això', 'mateixa', 'malgrat', 'són', 'algunes', 'alguna', 'sap', 'som', 'ambdues', 'mal', 'allí', 'vosaltres', 'vostre', 'hem', 'des', 'et', 'pas', 'podem', 'quina', 'fas', 'fem', 'igual', 'del', 'al', 'molta', 'a', 'nostre', 'conseguim', 'consigueixes', 'has', 'pel', 'tantes', 'tal', 'iguals', 'perquè', 'éreu', 'teva', 'poden', 'com', 'te', 'mateixos', 'més', 'entre', 'potser', 'durant', 'ans', 'oi', 'cadascú', 'teus', 'ha', 'apa', 'seves', 'semblants', 'sota', 'nosaltres', 'quines', 'ni', 'tot', 'ma', 'feu', \"m'he\", 'mateix', 'cadascuns', 'dins', 'he', 'qui', 'era', 'estava', 'seus', 'eren', 'quant', 'de', 'que', 'ací', 'quals', 'fan', 'consigueix', \"d'unes\", 'e', 'i', \"n'he\", \"n'hi\", 'poc', 'consigueixen', 'tene', 'ho', 'vostra', 'bé', 'saps', 'ses', 'heu', 'fins', 'solament', \"d'un\", \"t'han\", 'ah', 'aquesta', 'estat', 'amb', 'teves', \"s'ha\", 'aquelles', 'sabeu', 'ambdós', 'ells', 'vostres', 'tots', 'el', 'doncs', 'ets', 'saber', 'nogensmenys', 'fi', 'sou', 'un', 'érem', 'sols', 'dintre', 'sobretot', 'tota', 'aquells', 'una', 'altra', \"d'uns\", 'elles', 'ús', 'etc'}\n"
     ]
    }
   ],
   "source": [
    "!python -m spacy download ca_core_news_sm\n",
    "nlp = spacy.load(\"ca_core_news_sm\")\n",
    "stopwords = nlp.Defaults.stop_words\n",
    "print(stopwords)"
   ]
  },
  {
   "cell_type": "markdown",
   "id": "2a8b89c4",
   "metadata": {},
   "source": [
    "# Load and process csv data"
   ]
  },
  {
   "cell_type": "code",
   "execution_count": 4,
   "id": "3e44c553",
   "metadata": {},
   "outputs": [],
   "source": [
    "data = pd.read_csv('../data/train.csv')"
   ]
  },
  {
   "cell_type": "code",
   "execution_count": 5,
   "id": "8686e2b8",
   "metadata": {},
   "outputs": [],
   "source": [
    "texts = data['text']\n",
    "labels = data['class']\n",
    "year = data['year']"
   ]
  },
  {
   "cell_type": "markdown",
   "id": "9e66dcc5",
   "metadata": {},
   "source": [
    "## Remove stopwords + leading and trailing quotes"
   ]
  },
  {
   "cell_type": "code",
   "execution_count": 9,
   "id": "a00ad63e",
   "metadata": {},
   "outputs": [],
   "source": [
    "def remove_stopwords(sentence):\n",
    "    sentence = ' '.join([word for word in sentence.split() if word not in stopwords])\n",
    "\n",
    "    return sentence\n",
    "\n",
    "preprocessed_texts = []\n",
    "for sentence in texts:\n",
    "    preprocessed_texts.append(remove_stopwords(sentence))"
   ]
  },
  {
   "cell_type": "code",
   "execution_count": 11,
   "id": "ace3326d",
   "metadata": {},
   "outputs": [],
   "source": [
    "for sentence in preprocessed_texts:\n",
    "    if sentence.startswith((\"'\", '\"')):\n",
    "        sentence = sentence[1:]\n",
    "    if sentence.endswith((\"'\", '\"')):\n",
    "        sentence = sentence[:-1]"
   ]
  },
  {
   "cell_type": "code",
   "execution_count": 12,
   "id": "d7d5cf95",
   "metadata": {},
   "outputs": [
    {
     "name": "stdout",
     "output_type": "stream",
     "text": [
      "[\"Aprovació definitiva projecte bombament clavegueram l'Institut Baix Montseny camp futbol Can Sans.\"\n",
      " \"Convocatòria subvencions l'àmbit esportiu d'activitats 2016.\"\n",
      " \"Aprovació definitiva modificació crèdit 04/2018 pressupost general Diputació Barcelona l'exercici 2018.\"\n",
      " \"Convocatòria concurs Cartells Dia Internacional Dones, l'any 2020.\"\n",
      " \"Aprovació inicial modificació l'Ordenança reguladora preus públics.\"\n",
      " \"Delegació d'alcalde accidental dies 29 maig 1 juny 2015, inclosos.\"\n",
      " \"Subvenció pagament l'impost béns immobles (IBI) any 2019.\"\n",
      " \"Baixa Padró Municipal d'Habitants.\"\n",
      " 'Citació notificació mitjançant compareixença.'\n",
      " \"Licitació concessió administrativa l'ús privatiu d'espais domini públic l'explotació mòdul 3 polivalent ubicat Parc Joan Maragall Caldes d'Estrac.\"\n",
      " \"Adjudicació formalització contracte prestació serveis postals l'Ajuntament.\"\n",
      " \"Delegacions d'Alcaldia regidor.\"\n",
      " 'Nomenament personal funcionari carrera.'\n",
      " \"Licitació contracte d'obres Nova escola bressol: finalització 2a fase.\"\n",
      " 'Aprovació bases convocatòria 2015 concessió subvencions AMPA centres educatius ciutat material escolar llibres.']\n"
     ]
    }
   ],
   "source": [
    "print(np.random.choice(preprocessed_texts, 15, replace=False))"
   ]
  },
  {
   "cell_type": "code",
   "execution_count": 64,
   "id": "09513816",
   "metadata": {},
   "outputs": [
    {
     "data": {
      "image/png": "[encoded data removed]",
      "text/plain": [
       "<Figure size 1500x500 with 2 Axes>"
      ]
     },
     "metadata": {},
     "output_type": "display_data"
    }
   ],
   "source": [
    "year_counts = Counter(year)\n",
    "sorted_years = sorted(year_counts)\n",
    "frequencies_years = [year_counts[year] for year in sorted_years]\n",
    "\n",
    "lable_counts = Counter(labels)\n",
    "sorted_lables = sorted(lable_counts)\n",
    "frequencies_labels = [lable_counts[label] for label in sorted_lables]\n",
    "labels_with_pct = [f\"{label}\\n({size/sum(frequencies_labels):.1%})\" for label, size in lable_counts.items()]\n",
    "\n",
    "fig, ax = plt.subplots(1,2, figsize=(15,5))\n",
    "ax[0].bar(sorted_years, frequencies_years)\n",
    "ax[0].set_xlabel('Year')\n",
    "ax[0].set_ylabel('Count')\n",
    "ax[0].set_title('Frequency of Years')\n",
    "\n",
    "\n",
    "squarify.plot(sizes=lable_counts.values(), label=labels_with_pct, alpha=0.7, ax=ax[1])\n",
    "ax[1].axis('off')\n",
    "ax[1].set_title(\"Proportional Area Chart of the labels\")\n",
    "\n",
    "# ax[1].bar(sorted_lables, frequencies_labels)\n",
    "# ax[1].set_xlabel('Label')\n",
    "# ax[1].set_ylabel('Count')\n",
    "# ax[1].set_title('Label Frequencies')\n",
    "\n",
    "plt.show()"
   ]
  },
  {
   "cell_type": "markdown",
   "id": "9b464ca4",
   "metadata": {},
   "source": [
    "## Convert texts to TF-IDF vectors"
   ]
  },
  {
   "cell_type": "code",
   "execution_count": 14,
   "id": "5f4d4b45",
   "metadata": {},
   "outputs": [],
   "source": [
    "vectorizer = TfidfVectorizer(max_features=1000)\n",
    "X = vectorizer.fit_transform(preprocessed_texts).toarray()\n",
    "y = np.array(labels)"
   ]
  },
  {
   "cell_type": "markdown",
   "id": "19bc47ba",
   "metadata": {},
   "source": [
    "## Create a PyTorch dataset"
   ]
  },
  {
   "cell_type": "code",
   "execution_count": 15,
   "id": "b31a0704",
   "metadata": {},
   "outputs": [],
   "source": [
    "class TextDataset(Dataset):\n",
    "    def __init__(self, data, targets):\n",
    "        self.data = torch.tensor(data, dtype=torch.float32)\n",
    "        self.targets = torch.tensor(targets, dtype=torch.long)\n",
    "\n",
    "    def __len__(self):\n",
    "        return len(self.targets)\n",
    "\n",
    "    def __getitem__(self, idx):\n",
    "        return self.data[idx], self.targets[idx]\n",
    "\n",
    "# Split into train/test\n",
    "X_train, X_test, y_train, y_test = train_test_split(X, y, test_size=0.3, random_state=42)\n",
    "\n",
    "train_dataset = DataLoader(TextDataset(X_train, y_train), batch_size=32, shuffle=True)\n",
    "test_dataset = DataLoader(TextDataset(X_test, y_test), batch_size=32)"
   ]
  },
  {
   "cell_type": "markdown",
   "id": "164e221f",
   "metadata": {},
   "source": [
    "# Basic NN"
   ]
  },
  {
   "cell_type": "markdown",
   "id": "b92f3e8d",
   "metadata": {},
   "source": [
    "## Model Class"
   ]
  },
  {
   "cell_type": "code",
   "execution_count": 16,
   "id": "9b795f87",
   "metadata": {},
   "outputs": [],
   "source": [
    "# Define the FCNN model\n",
    "class FCNN(nn.Module):\n",
    "    def __init__(self, input_size, hidden_size, num_classes):\n",
    "        super(FCNN, self).__init__()\n",
    "        self.fc1 = nn.Linear(input_size, hidden_size)\n",
    "        self.relu = nn.ReLU()\n",
    "        self.fc2 = nn.Linear(hidden_size, num_classes)\n",
    "\n",
    "    def forward(self, x):\n",
    "        out = self.fc1(x)\n",
    "        out = self.relu(out)\n",
    "        out = self.fc2(out)\n",
    "        return out"
   ]
  },
  {
   "cell_type": "markdown",
   "id": "d4d05348",
   "metadata": {},
   "source": [
    "## Initialize Model, Loss and Optimizer"
   ]
  },
  {
   "cell_type": "code",
   "execution_count": 17,
   "id": "e4c834bd",
   "metadata": {},
   "outputs": [],
   "source": [
    "fcnn = FCNN(input_size=1000, hidden_size=256, num_classes=21)\n",
    "loss_function = nn.CrossEntropyLoss()\n",
    "optimizer = torch.optim.Adam(fcnn.parameters(), lr=0.001)"
   ]
  },
  {
   "cell_type": "markdown",
   "id": "425d9d83",
   "metadata": {},
   "source": [
    "## Training and Testing"
   ]
  },
  {
   "cell_type": "code",
   "execution_count": 18,
   "id": "66121032",
   "metadata": {},
   "outputs": [],
   "source": [
    "def train(model, train_loader, optimizer, epoch):\n",
    "    model.train()\n",
    "    for step, (data, target) in enumerate(train_loader):\n",
    "        optimizer.zero_grad()\n",
    "        output = model(data)\n",
    "        loss = loss_function(output, target)\n",
    "        loss.backward()\n",
    "        optimizer.step()\n",
    "        if step % 100 == 0:\n",
    "            print('Train Epoch: {} [{}/{} ({:.0f}%)]\\tLoss: {:.6f}'.format(\n",
    "                epoch, step * len(data), len(train_loader.dataset),\n",
    "                100. * step / len(train_loader), loss.item()))"
   ]
  },
  {
   "cell_type": "code",
   "execution_count": 19,
   "id": "7f3f38b0",
   "metadata": {},
   "outputs": [],
   "source": [
    "def test(model, test_loader):\n",
    "    model.eval()\n",
    "    test_loss = 0\n",
    "    correct = 0\n",
    "    with torch.no_grad():\n",
    "        for data, target in test_loader:\n",
    "            output = model(data)\n",
    "            test_loss += loss_function(output, target).item() * target.size(0)\n",
    "            pred = output.argmax(dim=1)\n",
    "            correct += pred.eq(target).sum().item()\n",
    "\n",
    "    test_loss /= len(test_loader.dataset)\n",
    "    accuracy = 100. * correct / len(test_loader.dataset)\n",
    "    print('\\nTest set: Average loss: {:.4f}, Accuracy: {}/{} ({:.0f}%)\\n'.format(\n",
    "        test_loss, correct, len(test_loader.dataset), accuracy))"
   ]
  },
  {
   "cell_type": "code",
   "execution_count": 20,
   "id": "421acd19",
   "metadata": {},
   "outputs": [
    {
     "name": "stdout",
     "output_type": "stream",
     "text": [
      "Train Epoch: 1 [0/151881 (0%)]\tLoss: 3.045285\n",
      "Train Epoch: 1 [3200/151881 (2%)]\tLoss: 1.659530\n",
      "Train Epoch: 1 [6400/151881 (4%)]\tLoss: 0.800069\n",
      "Train Epoch: 1 [9600/151881 (6%)]\tLoss: 0.381011\n",
      "Train Epoch: 1 [12800/151881 (8%)]\tLoss: 0.414087\n",
      "Train Epoch: 1 [16000/151881 (11%)]\tLoss: 0.458306\n",
      "Train Epoch: 1 [19200/151881 (13%)]\tLoss: 0.380540\n",
      "Train Epoch: 1 [22400/151881 (15%)]\tLoss: 0.164928\n",
      "Train Epoch: 1 [25600/151881 (17%)]\tLoss: 0.217871\n",
      "Train Epoch: 1 [28800/151881 (19%)]\tLoss: 0.135074\n",
      "Train Epoch: 1 [32000/151881 (21%)]\tLoss: 0.268345\n",
      "Train Epoch: 1 [35200/151881 (23%)]\tLoss: 0.304954\n",
      "Train Epoch: 1 [38400/151881 (25%)]\tLoss: 0.245023\n",
      "Train Epoch: 1 [41600/151881 (27%)]\tLoss: 0.156764\n",
      "Train Epoch: 1 [44800/151881 (29%)]\tLoss: 0.371206\n",
      "Train Epoch: 1 [48000/151881 (32%)]\tLoss: 0.452811\n",
      "Train Epoch: 1 [51200/151881 (34%)]\tLoss: 0.323723\n",
      "Train Epoch: 1 [54400/151881 (36%)]\tLoss: 0.161352\n",
      "Train Epoch: 1 [57600/151881 (38%)]\tLoss: 0.315475\n",
      "Train Epoch: 1 [60800/151881 (40%)]\tLoss: 0.350192\n",
      "Train Epoch: 1 [64000/151881 (42%)]\tLoss: 0.157635\n",
      "Train Epoch: 1 [67200/151881 (44%)]\tLoss: 0.106381\n",
      "Train Epoch: 1 [70400/151881 (46%)]\tLoss: 0.144152\n",
      "Train Epoch: 1 [73600/151881 (48%)]\tLoss: 0.245546\n",
      "Train Epoch: 1 [76800/151881 (51%)]\tLoss: 0.346428\n",
      "Train Epoch: 1 [80000/151881 (53%)]\tLoss: 0.152913\n",
      "Train Epoch: 1 [83200/151881 (55%)]\tLoss: 0.259302\n",
      "Train Epoch: 1 [86400/151881 (57%)]\tLoss: 0.369950\n",
      "Train Epoch: 1 [89600/151881 (59%)]\tLoss: 0.108328\n",
      "Train Epoch: 1 [92800/151881 (61%)]\tLoss: 0.084287\n",
      "Train Epoch: 1 [96000/151881 (63%)]\tLoss: 0.319721\n",
      "Train Epoch: 1 [99200/151881 (65%)]\tLoss: 0.121536\n",
      "Train Epoch: 1 [102400/151881 (67%)]\tLoss: 0.160990\n",
      "Train Epoch: 1 [105600/151881 (70%)]\tLoss: 0.055550\n",
      "Train Epoch: 1 [108800/151881 (72%)]\tLoss: 0.126234\n",
      "Train Epoch: 1 [112000/151881 (74%)]\tLoss: 0.436818\n",
      "Train Epoch: 1 [115200/151881 (76%)]\tLoss: 0.094357\n",
      "Train Epoch: 1 [118400/151881 (78%)]\tLoss: 0.159240\n",
      "Train Epoch: 1 [121600/151881 (80%)]\tLoss: 0.134710\n",
      "Train Epoch: 1 [124800/151881 (82%)]\tLoss: 0.035499\n",
      "Train Epoch: 1 [128000/151881 (84%)]\tLoss: 0.191563\n",
      "Train Epoch: 1 [131200/151881 (86%)]\tLoss: 0.152207\n",
      "Train Epoch: 1 [134400/151881 (88%)]\tLoss: 0.170145\n",
      "Train Epoch: 1 [137600/151881 (91%)]\tLoss: 0.211533\n",
      "Train Epoch: 1 [140800/151881 (93%)]\tLoss: 0.415906\n",
      "Train Epoch: 1 [144000/151881 (95%)]\tLoss: 0.528706\n",
      "Train Epoch: 1 [147200/151881 (97%)]\tLoss: 0.199174\n",
      "Train Epoch: 1 [150400/151881 (99%)]\tLoss: 0.076498\n",
      "\n",
      "Test set: Average loss: 0.1794, Accuracy: 61660/65093 (95%)\n",
      "\n",
      "Train Epoch: 2 [0/151881 (0%)]\tLoss: 0.120412\n",
      "Train Epoch: 2 [3200/151881 (2%)]\tLoss: 0.107070\n",
      "Train Epoch: 2 [6400/151881 (4%)]\tLoss: 0.017346\n",
      "Train Epoch: 2 [9600/151881 (6%)]\tLoss: 0.169581\n",
      "Train Epoch: 2 [12800/151881 (8%)]\tLoss: 0.046006\n",
      "Train Epoch: 2 [16000/151881 (11%)]\tLoss: 0.309568\n",
      "Train Epoch: 2 [19200/151881 (13%)]\tLoss: 0.074678\n",
      "Train Epoch: 2 [22400/151881 (15%)]\tLoss: 0.042610\n",
      "Train Epoch: 2 [25600/151881 (17%)]\tLoss: 0.153163\n",
      "Train Epoch: 2 [28800/151881 (19%)]\tLoss: 0.342815\n",
      "Train Epoch: 2 [32000/151881 (21%)]\tLoss: 0.106702\n",
      "Train Epoch: 2 [35200/151881 (23%)]\tLoss: 0.259291\n",
      "Train Epoch: 2 [38400/151881 (25%)]\tLoss: 0.122657\n",
      "Train Epoch: 2 [41600/151881 (27%)]\tLoss: 0.077122\n",
      "Train Epoch: 2 [44800/151881 (29%)]\tLoss: 0.363806\n",
      "Train Epoch: 2 [48000/151881 (32%)]\tLoss: 0.163034\n",
      "Train Epoch: 2 [51200/151881 (34%)]\tLoss: 0.224350\n",
      "Train Epoch: 2 [54400/151881 (36%)]\tLoss: 0.523826\n",
      "Train Epoch: 2 [57600/151881 (38%)]\tLoss: 0.152555\n",
      "Train Epoch: 2 [60800/151881 (40%)]\tLoss: 0.125194\n",
      "Train Epoch: 2 [64000/151881 (42%)]\tLoss: 0.321367\n",
      "Train Epoch: 2 [67200/151881 (44%)]\tLoss: 0.198632\n",
      "Train Epoch: 2 [70400/151881 (46%)]\tLoss: 0.194205\n",
      "Train Epoch: 2 [73600/151881 (48%)]\tLoss: 0.202218\n",
      "Train Epoch: 2 [76800/151881 (51%)]\tLoss: 0.216755\n",
      "Train Epoch: 2 [80000/151881 (53%)]\tLoss: 0.023519\n",
      "Train Epoch: 2 [83200/151881 (55%)]\tLoss: 0.141828\n",
      "Train Epoch: 2 [86400/151881 (57%)]\tLoss: 0.101452\n",
      "Train Epoch: 2 [89600/151881 (59%)]\tLoss: 0.175606\n",
      "Train Epoch: 2 [92800/151881 (61%)]\tLoss: 0.258173\n",
      "Train Epoch: 2 [96000/151881 (63%)]\tLoss: 0.280995\n",
      "Train Epoch: 2 [99200/151881 (65%)]\tLoss: 0.274096\n",
      "Train Epoch: 2 [102400/151881 (67%)]\tLoss: 0.144004\n",
      "Train Epoch: 2 [105600/151881 (70%)]\tLoss: 0.248223\n",
      "Train Epoch: 2 [108800/151881 (72%)]\tLoss: 0.043733\n",
      "Train Epoch: 2 [112000/151881 (74%)]\tLoss: 0.256877\n",
      "Train Epoch: 2 [115200/151881 (76%)]\tLoss: 0.124568\n",
      "Train Epoch: 2 [118400/151881 (78%)]\tLoss: 0.048495\n",
      "Train Epoch: 2 [121600/151881 (80%)]\tLoss: 0.246846\n",
      "Train Epoch: 2 [124800/151881 (82%)]\tLoss: 0.092690\n",
      "Train Epoch: 2 [128000/151881 (84%)]\tLoss: 0.098093\n",
      "Train Epoch: 2 [131200/151881 (86%)]\tLoss: 0.281976\n",
      "Train Epoch: 2 [134400/151881 (88%)]\tLoss: 0.228386\n",
      "Train Epoch: 2 [137600/151881 (91%)]\tLoss: 0.201436\n",
      "Train Epoch: 2 [140800/151881 (93%)]\tLoss: 0.090972\n",
      "Train Epoch: 2 [144000/151881 (95%)]\tLoss: 0.198712\n",
      "Train Epoch: 2 [147200/151881 (97%)]\tLoss: 0.046919\n",
      "Train Epoch: 2 [150400/151881 (99%)]\tLoss: 0.255068\n",
      "\n",
      "Test set: Average loss: 0.1713, Accuracy: 61690/65093 (95%)\n",
      "\n",
      "Train Epoch: 3 [0/151881 (0%)]\tLoss: 0.150151\n",
      "Train Epoch: 3 [3200/151881 (2%)]\tLoss: 0.155075\n",
      "Train Epoch: 3 [6400/151881 (4%)]\tLoss: 0.129660\n",
      "Train Epoch: 3 [9600/151881 (6%)]\tLoss: 0.386330\n",
      "Train Epoch: 3 [12800/151881 (8%)]\tLoss: 0.237326\n",
      "Train Epoch: 3 [16000/151881 (11%)]\tLoss: 0.246780\n",
      "Train Epoch: 3 [19200/151881 (13%)]\tLoss: 0.216942\n",
      "Train Epoch: 3 [22400/151881 (15%)]\tLoss: 0.030808\n",
      "Train Epoch: 3 [25600/151881 (17%)]\tLoss: 0.197952\n",
      "Train Epoch: 3 [28800/151881 (19%)]\tLoss: 0.247708\n",
      "Train Epoch: 3 [32000/151881 (21%)]\tLoss: 0.256832\n",
      "Train Epoch: 3 [35200/151881 (23%)]\tLoss: 0.219736\n",
      "Train Epoch: 3 [38400/151881 (25%)]\tLoss: 0.187579\n",
      "Train Epoch: 3 [41600/151881 (27%)]\tLoss: 0.316985\n",
      "Train Epoch: 3 [44800/151881 (29%)]\tLoss: 0.046261\n",
      "Train Epoch: 3 [48000/151881 (32%)]\tLoss: 0.240494\n",
      "Train Epoch: 3 [51200/151881 (34%)]\tLoss: 0.056220\n",
      "Train Epoch: 3 [54400/151881 (36%)]\tLoss: 0.003161\n",
      "Train Epoch: 3 [57600/151881 (38%)]\tLoss: 0.071650\n",
      "Train Epoch: 3 [60800/151881 (40%)]\tLoss: 0.265705\n",
      "Train Epoch: 3 [64000/151881 (42%)]\tLoss: 0.117537\n",
      "Train Epoch: 3 [67200/151881 (44%)]\tLoss: 0.112636\n",
      "Train Epoch: 3 [70400/151881 (46%)]\tLoss: 0.066660\n",
      "Train Epoch: 3 [73600/151881 (48%)]\tLoss: 0.517527\n",
      "Train Epoch: 3 [76800/151881 (51%)]\tLoss: 0.163796\n",
      "Train Epoch: 3 [80000/151881 (53%)]\tLoss: 0.238913\n",
      "Train Epoch: 3 [83200/151881 (55%)]\tLoss: 0.066336\n",
      "Train Epoch: 3 [86400/151881 (57%)]\tLoss: 0.073289\n",
      "Train Epoch: 3 [89600/151881 (59%)]\tLoss: 0.086769\n",
      "Train Epoch: 3 [92800/151881 (61%)]\tLoss: 0.039669\n",
      "Train Epoch: 3 [96000/151881 (63%)]\tLoss: 0.229025\n",
      "Train Epoch: 3 [99200/151881 (65%)]\tLoss: 0.151027\n",
      "Train Epoch: 3 [102400/151881 (67%)]\tLoss: 0.151804\n",
      "Train Epoch: 3 [105600/151881 (70%)]\tLoss: 0.168399\n",
      "Train Epoch: 3 [108800/151881 (72%)]\tLoss: 0.168851\n",
      "Train Epoch: 3 [112000/151881 (74%)]\tLoss: 0.278424\n",
      "Train Epoch: 3 [115200/151881 (76%)]\tLoss: 0.070265\n",
      "Train Epoch: 3 [118400/151881 (78%)]\tLoss: 0.067676\n",
      "Train Epoch: 3 [121600/151881 (80%)]\tLoss: 0.137529\n",
      "Train Epoch: 3 [124800/151881 (82%)]\tLoss: 0.154282\n",
      "Train Epoch: 3 [128000/151881 (84%)]\tLoss: 0.108232\n",
      "Train Epoch: 3 [131200/151881 (86%)]\tLoss: 0.149771\n",
      "Train Epoch: 3 [134400/151881 (88%)]\tLoss: 0.228161\n",
      "Train Epoch: 3 [137600/151881 (91%)]\tLoss: 0.082856\n",
      "Train Epoch: 3 [140800/151881 (93%)]\tLoss: 0.190809\n",
      "Train Epoch: 3 [144000/151881 (95%)]\tLoss: 0.046073\n",
      "Train Epoch: 3 [147200/151881 (97%)]\tLoss: 0.291157\n",
      "Train Epoch: 3 [150400/151881 (99%)]\tLoss: 0.054684\n",
      "\n",
      "Test set: Average loss: 0.1639, Accuracy: 61895/65093 (95%)\n",
      "\n",
      "Train Epoch: 4 [0/151881 (0%)]\tLoss: 0.084500\n",
      "Train Epoch: 4 [3200/151881 (2%)]\tLoss: 0.154825\n",
      "Train Epoch: 4 [6400/151881 (4%)]\tLoss: 0.196592\n",
      "Train Epoch: 4 [9600/151881 (6%)]\tLoss: 0.090934\n",
      "Train Epoch: 4 [12800/151881 (8%)]\tLoss: 0.023642\n",
      "Train Epoch: 4 [16000/151881 (11%)]\tLoss: 0.078576\n",
      "Train Epoch: 4 [19200/151881 (13%)]\tLoss: 0.543946\n",
      "Train Epoch: 4 [22400/151881 (15%)]\tLoss: 0.142010\n",
      "Train Epoch: 4 [25600/151881 (17%)]\tLoss: 0.090303\n",
      "Train Epoch: 4 [28800/151881 (19%)]\tLoss: 0.043356\n",
      "Train Epoch: 4 [32000/151881 (21%)]\tLoss: 0.225309\n",
      "Train Epoch: 4 [35200/151881 (23%)]\tLoss: 0.184500\n",
      "Train Epoch: 4 [38400/151881 (25%)]\tLoss: 0.084709\n",
      "Train Epoch: 4 [41600/151881 (27%)]\tLoss: 0.394395\n",
      "Train Epoch: 4 [44800/151881 (29%)]\tLoss: 0.236209\n",
      "Train Epoch: 4 [48000/151881 (32%)]\tLoss: 0.133401\n",
      "Train Epoch: 4 [51200/151881 (34%)]\tLoss: 0.008417\n",
      "Train Epoch: 4 [54400/151881 (36%)]\tLoss: 0.236560\n",
      "Train Epoch: 4 [57600/151881 (38%)]\tLoss: 0.123677\n",
      "Train Epoch: 4 [60800/151881 (40%)]\tLoss: 0.194296\n",
      "Train Epoch: 4 [64000/151881 (42%)]\tLoss: 0.067972\n",
      "Train Epoch: 4 [67200/151881 (44%)]\tLoss: 0.026625\n",
      "Train Epoch: 4 [70400/151881 (46%)]\tLoss: 0.076765\n",
      "Train Epoch: 4 [73600/151881 (48%)]\tLoss: 0.180467\n",
      "Train Epoch: 4 [76800/151881 (51%)]\tLoss: 0.200059\n",
      "Train Epoch: 4 [80000/151881 (53%)]\tLoss: 0.162805\n",
      "Train Epoch: 4 [83200/151881 (55%)]\tLoss: 0.140871\n",
      "Train Epoch: 4 [86400/151881 (57%)]\tLoss: 0.077023\n",
      "Train Epoch: 4 [89600/151881 (59%)]\tLoss: 0.515123\n",
      "Train Epoch: 4 [92800/151881 (61%)]\tLoss: 0.242243\n",
      "Train Epoch: 4 [96000/151881 (63%)]\tLoss: 0.181596\n",
      "Train Epoch: 4 [99200/151881 (65%)]\tLoss: 0.066804\n",
      "Train Epoch: 4 [102400/151881 (67%)]\tLoss: 0.054697\n",
      "Train Epoch: 4 [105600/151881 (70%)]\tLoss: 0.059447\n",
      "Train Epoch: 4 [108800/151881 (72%)]\tLoss: 0.120169\n",
      "Train Epoch: 4 [112000/151881 (74%)]\tLoss: 0.066256\n",
      "Train Epoch: 4 [115200/151881 (76%)]\tLoss: 0.112700\n",
      "Train Epoch: 4 [118400/151881 (78%)]\tLoss: 0.050304\n",
      "Train Epoch: 4 [121600/151881 (80%)]\tLoss: 0.061286\n",
      "Train Epoch: 4 [124800/151881 (82%)]\tLoss: 0.121342\n",
      "Train Epoch: 4 [128000/151881 (84%)]\tLoss: 0.290811\n",
      "Train Epoch: 4 [131200/151881 (86%)]\tLoss: 0.322972\n",
      "Train Epoch: 4 [134400/151881 (88%)]\tLoss: 0.011247\n",
      "Train Epoch: 4 [137600/151881 (91%)]\tLoss: 0.187618\n",
      "Train Epoch: 4 [140800/151881 (93%)]\tLoss: 0.182094\n",
      "Train Epoch: 4 [144000/151881 (95%)]\tLoss: 0.260151\n",
      "Train Epoch: 4 [147200/151881 (97%)]\tLoss: 0.024294\n",
      "Train Epoch: 4 [150400/151881 (99%)]\tLoss: 0.096604\n",
      "\n",
      "Test set: Average loss: 0.1627, Accuracy: 61971/65093 (95%)\n",
      "\n",
      "Train Epoch: 5 [0/151881 (0%)]\tLoss: 0.083617\n",
      "Train Epoch: 5 [3200/151881 (2%)]\tLoss: 0.056211\n",
      "Train Epoch: 5 [6400/151881 (4%)]\tLoss: 0.056331\n",
      "Train Epoch: 5 [9600/151881 (6%)]\tLoss: 0.100591\n",
      "Train Epoch: 5 [12800/151881 (8%)]\tLoss: 0.057553\n",
      "Train Epoch: 5 [16000/151881 (11%)]\tLoss: 0.031600\n",
      "Train Epoch: 5 [19200/151881 (13%)]\tLoss: 0.008038\n",
      "Train Epoch: 5 [22400/151881 (15%)]\tLoss: 0.240820\n",
      "Train Epoch: 5 [25600/151881 (17%)]\tLoss: 0.191713\n",
      "Train Epoch: 5 [28800/151881 (19%)]\tLoss: 0.050194\n",
      "Train Epoch: 5 [32000/151881 (21%)]\tLoss: 0.176213\n",
      "Train Epoch: 5 [35200/151881 (23%)]\tLoss: 0.041967\n",
      "Train Epoch: 5 [38400/151881 (25%)]\tLoss: 0.018080\n",
      "Train Epoch: 5 [41600/151881 (27%)]\tLoss: 0.039108\n",
      "Train Epoch: 5 [44800/151881 (29%)]\tLoss: 0.027777\n",
      "Train Epoch: 5 [48000/151881 (32%)]\tLoss: 0.067851\n",
      "Train Epoch: 5 [51200/151881 (34%)]\tLoss: 0.211999\n",
      "Train Epoch: 5 [54400/151881 (36%)]\tLoss: 0.075577\n",
      "Train Epoch: 5 [57600/151881 (38%)]\tLoss: 0.032278\n",
      "Train Epoch: 5 [60800/151881 (40%)]\tLoss: 0.013152\n",
      "Train Epoch: 5 [64000/151881 (42%)]\tLoss: 0.061973\n",
      "Train Epoch: 5 [67200/151881 (44%)]\tLoss: 0.292362\n",
      "Train Epoch: 5 [70400/151881 (46%)]\tLoss: 0.015005\n",
      "Train Epoch: 5 [73600/151881 (48%)]\tLoss: 0.028062\n",
      "Train Epoch: 5 [76800/151881 (51%)]\tLoss: 0.048180\n",
      "Train Epoch: 5 [80000/151881 (53%)]\tLoss: 0.045113\n",
      "Train Epoch: 5 [83200/151881 (55%)]\tLoss: 0.031787\n",
      "Train Epoch: 5 [86400/151881 (57%)]\tLoss: 0.121238\n",
      "Train Epoch: 5 [89600/151881 (59%)]\tLoss: 0.107220\n",
      "Train Epoch: 5 [92800/151881 (61%)]\tLoss: 0.018448\n",
      "Train Epoch: 5 [96000/151881 (63%)]\tLoss: 0.092172\n",
      "Train Epoch: 5 [99200/151881 (65%)]\tLoss: 0.126410\n",
      "Train Epoch: 5 [102400/151881 (67%)]\tLoss: 0.040638\n",
      "Train Epoch: 5 [105600/151881 (70%)]\tLoss: 0.047583\n",
      "Train Epoch: 5 [108800/151881 (72%)]\tLoss: 0.076023\n",
      "Train Epoch: 5 [112000/151881 (74%)]\tLoss: 0.130485\n",
      "Train Epoch: 5 [115200/151881 (76%)]\tLoss: 0.116517\n",
      "Train Epoch: 5 [118400/151881 (78%)]\tLoss: 0.005231\n",
      "Train Epoch: 5 [121600/151881 (80%)]\tLoss: 0.154367\n",
      "Train Epoch: 5 [124800/151881 (82%)]\tLoss: 0.017882\n",
      "Train Epoch: 5 [128000/151881 (84%)]\tLoss: 0.190925\n",
      "Train Epoch: 5 [131200/151881 (86%)]\tLoss: 0.136440\n",
      "Train Epoch: 5 [134400/151881 (88%)]\tLoss: 0.085820\n",
      "Train Epoch: 5 [137600/151881 (91%)]\tLoss: 0.209319\n",
      "Train Epoch: 5 [140800/151881 (93%)]\tLoss: 0.145993\n",
      "Train Epoch: 5 [144000/151881 (95%)]\tLoss: 0.137433\n",
      "Train Epoch: 5 [147200/151881 (97%)]\tLoss: 0.112476\n",
      "Train Epoch: 5 [150400/151881 (99%)]\tLoss: 0.137720\n",
      "\n",
      "Test set: Average loss: 0.1643, Accuracy: 61966/65093 (95%)\n",
      "\n"
     ]
    }
   ],
   "source": [
    "num_epochs = 5\n",
    "for epoch in range(1, num_epochs + 1):\n",
    "    train(fcnn, train_dataset, optimizer, epoch)\n",
    "    test(fcnn, test_dataset)"
   ]
  },
  {
   "cell_type": "code",
   "execution_count": null,
   "id": "09648a2e",
   "metadata": {},
   "outputs": [],
   "source": []
  }
 ],
 "metadata": {
  "kernelspec": {
   "display_name": ".venv",
   "language": "python",
   "name": "python3"
  },
  "language_info": {
   "codemirror_mode": {
    "name": "ipython",
    "version": 3
   },
   "file_extension": ".py",
   "mimetype": "text/x-python",
   "name": "python",
   "nbconvert_exporter": "python",
   "pygments_lexer": "ipython3",
   "version": "3.12.3"
  }
 },
 "nbformat": 4,
 "nbformat_minor": 5
}
